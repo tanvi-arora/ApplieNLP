{
 "cells": [
  {
   "cell_type": "markdown",
   "metadata": {},
   "source": [
    "## Homework 3\n",
    "\n",
    "**Submitted by : Tanvi Arora**  \n",
    "**Section : DS 7337 Natural Language Processing - 401**"
   ]
  },
  {
   "cell_type": "markdown",
   "metadata": {},
   "source": [
    "<a id=\"top\"></a>\n",
    "### Contents\n",
    "\n",
    "* <a href=\"#editdistance\">1-a. Edit distance between given name and nick name</a>\n",
    "* <a href=\"#percentstringmatch\">1-b. Percentage String Match between given name and nick name </a>\n",
    "* <a href=\"#removestopwords\">2. Rewrite excluding stopwords</a>\n",
    "* <a href=\"#stemmers\">3-a. Run through the stemmer</a>\n",
    "* <a href=\"#morphologicalroots\">3-b. Compare stems with morphological roots</a>"
   ]
  },
  {
   "cell_type": "code",
   "execution_count": 116,
   "metadata": {},
   "outputs": [
    {
     "name": "stdout",
     "output_type": "stream",
     "text": [
      "Darwin-18.5.0-x86_64-i386-64bit\n",
      "Python 3.7.3 (default, Mar 27 2019, 16:54:48) \n",
      "[Clang 4.0.1 (tags/RELEASE_401/final)]\n",
      "nltk 3.4\n"
     ]
    }
   ],
   "source": [
    "import platform\n",
    "print(platform.platform())\n",
    "\n",
    "import sys\n",
    "print(\"Python\",sys.version)\n",
    "\n",
    "import nltk\n",
    "from nltk.tokenize import regexp_tokenize\n",
    "print(\"nltk\",nltk.__version__)\n",
    "\n",
    "## for percentage string match\n",
    "from difflib import SequenceMatcher\n",
    "\n",
    "## for random book picking\n",
    "import random\n",
    "\n",
    "## for Regex Tokenizer\n",
    "import re\n",
    "\n",
    "## for Stemming\n",
    "from nltk.stem import PorterStemmer\n",
    "from nltk.stem import LancasterStemmer\n",
    "\n",
    "## for Lemmatization\n",
    "from nltk.stem import WordNetLemmatizer\n",
    "\n",
    "## for visualizations\n",
    "import matplotlib.pyplot as plt\n",
    "import pandas as pd"
   ]
  },
  {
   "cell_type": "markdown",
   "metadata": {},
   "source": [
    "<a id=\"editdistance\"></a>\n",
    "<a href=\"#top\">Back to Top</a>\n",
    "### Edit Distance between given name and nick name"
   ]
  },
  {
   "cell_type": "code",
   "execution_count": 13,
   "metadata": {},
   "outputs": [],
   "source": [
    "def get_editdistance(str1,str2):\n",
    "    return nltk.edit_distance(str1,str2,1,False)\n",
    "\n",
    "def print_editdistance(text1,text2):\n",
    "    print(\"Edit distance between \",text1,\" and \",text2,\" is \",get_editdistance(text1,text2))\n",
    "    print(\"Edit distance between \",text1,\" and \",text2,\" is \",get_editdistance(text2,text1))"
   ]
  },
  {
   "cell_type": "code",
   "execution_count": 51,
   "metadata": {},
   "outputs": [],
   "source": [
    "given_name='Tanvi'\n",
    "nick_name=['Tanu','Frazi','Mitthi','Bhanu','uvxyz']"
   ]
  },
  {
   "cell_type": "code",
   "execution_count": 52,
   "metadata": {},
   "outputs": [
    {
     "name": "stdout",
     "output_type": "stream",
     "text": [
      "Edit distance between  Tanvi  and  Tanu  is  2\n",
      "Edit distance between  Tanvi  and  Tanu  is  2\n",
      "\n",
      "Edit distance between  Tanvi  and  Frazi  is  4\n",
      "Edit distance between  Tanvi  and  Frazi  is  4\n",
      "\n",
      "Edit distance between  Tanvi  and  Mitthi  is  5\n",
      "Edit distance between  Tanvi  and  Mitthi  is  5\n",
      "\n",
      "Edit distance between  Tanvi  and  Bhanu  is  4\n",
      "Edit distance between  Tanvi  and  Bhanu  is  4\n",
      "\n",
      "Edit distance between  Tanvi  and  uvxyz  is  5\n",
      "Edit distance between  Tanvi  and  uvxyz  is  5\n",
      "\n"
     ]
    }
   ],
   "source": [
    "ed=[get_editdistance(given_name,nn) for nn in nick_name]\n",
    "\n",
    "for nn in nick_name:\n",
    "    print_editdistance(given_name,nn)\n",
    "    print()\n",
    "\n"
   ]
  },
  {
   "cell_type": "code",
   "execution_count": 54,
   "metadata": {},
   "outputs": [
    {
     "name": "stdout",
     "output_type": "stream",
     "text": [
      "  nick_name  edit_distance\n",
      "0      Tanu              2\n",
      "1     Frazi              4\n",
      "2    Mitthi              5\n",
      "3     Bhanu              4\n",
      "4     uvxyz              5\n"
     ]
    },
    {
     "data": {
      "text/plain": [
       "<matplotlib.axes._subplots.AxesSubplot at 0x1a22d650b8>"
      ]
     },
     "execution_count": 54,
     "metadata": {},
     "output_type": "execute_result"
    },
    {
     "data": {
      "image/png": "[encoded data removed]",
      "text/plain": [
       "<Figure size 432x288 with 1 Axes>"
      ]
     },
     "metadata": {
      "needs_background": "light"
     },
     "output_type": "display_data"
    }
   ],
   "source": [
    "edit_dist_df=pd.DataFrame({'nick_name' : nick_name,\n",
    "                           'edit_distance' : ed})\n",
    "\n",
    "print(edit_dist_df)\n",
    "\n",
    "edit_dist_df.plot(kind='line', x='nick_name' , y='edit_distance',title='Edit distance of my nicknames from my given name')"
   ]
  },
  {
   "cell_type": "markdown",
   "metadata": {},
   "source": [
    "So my nick name which is closest to my actual name has an edit distance of 2. Secret : That is the name mostly strangers come up with and none of my family members or close friends. Nick names for people close to us are like secret names, far from your given names. \n",
    "Tried different names and edit distance for same length names is same. Is that a coincidence or a fact ? Does edit distance have anything to do with the length of the nick name or just the characters ? And so added a dummy name of 5 letters , none of which match to any letters in my name. And edit distance was different than other names with same length.So, looks like length of name and number of different letters in the name both contribute to the edit distance"
   ]
  },
  {
   "cell_type": "markdown",
   "metadata": {},
   "source": [
    "<a id=\"percentstringmatch\"></a>\n",
    "<a href=\"#top\">Back to Top</a>\n",
    "### Percentage String match between given name and nick name"
   ]
  },
  {
   "cell_type": "code",
   "execution_count": 101,
   "metadata": {},
   "outputs": [],
   "source": [
    "def get_stringmatch(str1,str2):\n",
    "    return \"{0:.0f}\".format(SequenceMatcher(None,str1,str2).ratio() *100)\n",
    "    \n",
    "    \n",
    "def print_stringmatch(str1,str2):\n",
    "    m=get_stringmatch(str1,str2)\n",
    "    print(\"Percentage string match between \",str1,\" and \",str2,\" is \",m)"
   ]
  },
  {
   "cell_type": "code",
   "execution_count": 102,
   "metadata": {},
   "outputs": [
    {
     "name": "stdout",
     "output_type": "stream",
     "text": [
      "Percentage string match between  Tanvi  and  Tanu  is  67\n",
      "\n",
      "Percentage string match between  Tanvi  and  Frazi  is  40\n",
      "\n",
      "Percentage string match between  Tanvi  and  Mitthi  is  18\n",
      "\n",
      "Percentage string match between  Tanvi  and  Bhanu  is  40\n",
      "\n",
      "Percentage string match between  Tanvi  and  uvxyz  is  20\n",
      "\n"
     ]
    }
   ],
   "source": [
    "sm=[get_stringmatch(given_name,nn) for nn in nick_name]\n",
    "\n",
    "for nn in nick_name:\n",
    "    print_stringmatch(given_name,nn)\n",
    "    print()"
   ]
  },
  {
   "cell_type": "code",
   "execution_count": 103,
   "metadata": {},
   "outputs": [
    {
     "name": "stdout",
     "output_type": "stream",
     "text": [
      "  nick_name  stringmatch_%\n",
      "0      Tanu             67\n",
      "1     Frazi             40\n",
      "2    Mitthi             18\n",
      "3     Bhanu             40\n",
      "4     uvxyz             20\n"
     ]
    },
    {
     "data": {
      "text/plain": [
       "<matplotlib.axes._subplots.AxesSubplot at 0x1a22f0b2b0>"
      ]
     },
     "execution_count": 103,
     "metadata": {},
     "output_type": "execute_result"
    },
    {
     "data": {
      "image/png": "[encoded data removed]",
      "text/plain": [
       "<Figure size 432x288 with 1 Axes>"
      ]
     },
     "metadata": {
      "needs_background": "light"
     },
     "output_type": "display_data"
    }
   ],
   "source": [
    "stringmatch_df=pd.DataFrame({'nick_name' : nick_name,\n",
    "                           'stringmatch_%' : sm})\n",
    "stringmatch_df[\"stringmatch_%\"]=stringmatch_df.apply(lambda row : int(row[\"stringmatch_%\"]), axis=1)\n",
    "\n",
    "print(stringmatch_df)\n",
    "stringmatch_df.plot(kind='line', x='nick_name' , y='stringmatch_%',title='Stringmatch percentage of my nicknames from my given name')"
   ]
  },
  {
   "cell_type": "markdown",
   "metadata": {},
   "source": [
    "Stringmatch percentage between my nicknames and given name, well looks to be inversely proportional to the edit distance.The lower the edit distance, higher is the percentage string match when compared to higher edit distance. \n",
    "Even the nickname with no possible character match with my given name has a string match of 20%"
   ]
  },
  {
   "cell_type": "markdown",
   "metadata": {},
   "source": [
    "<a id=\"removestopwords\"></a>\n",
    "<a href=\"#top\">Back to Top</a>\n",
    "### Remove stop words"
   ]
  },
  {
   "cell_type": "code",
   "execution_count": 118,
   "metadata": {},
   "outputs": [
    {
     "name": "stdout",
     "output_type": "stream",
     "text": [
      "The temporary receptionist was an elegant African American woman wearing a dark,expensive business suit - a well-dressed exception to the usual crowd at the Southern Prisoners Defense Committee(SDPC) in Atlanta, where I had returned after graduation to work full time. On her first day, I'd rambled over to her in my regular uniform if jeans and sneakers and offered to answer any questions she might have to help her get acclimated.\n"
     ]
    }
   ],
   "source": [
    "Becoming_MichelleObama=\"I spent much of my childhood listening to the sound of striving. It came in the form of basd music, or at least amateur music, coming up through the floorboards of my bedroom - the plink plink plink of students sitting downstairs at my great-aunt Robbie's piano, slowly and imperfectly learning their scales.\"\n",
    "JustMercy_BryanStevenson=\"The temporary receptionist was an elegant African American woman wearing a dark,expensive business suit - a well-dressed exception to the usual crowd at the Southern Prisoners Defense Committee(SDPC) in Atlanta, where I had returned after graduation to work full time. On her first day, I'd rambled over to her in my regular uniform if jeans and sneakers and offered to answer any questions she might have to help her get acclimated.\"\n",
    "Educated_TaraWestover=\"My strongest memory is not a memory.It's something I imagined, then came to remember as if it had happened.\"\n",
    "book_index=random.randint(0,2)\n",
    "book_list=[Becoming_MichelleObama,JustMercy_BryanStevenson,Educated_TaraWestover]\n",
    "book_text=book_list[book_index]\n",
    "print(book_text)\n"
   ]
  },
  {
   "cell_type": "code",
   "execution_count": 130,
   "metadata": {},
   "outputs": [],
   "source": [
    "def get_wordtokens(text):\n",
    "    # word tokenization\n",
    "    default_wt = nltk.word_tokenize\n",
    "    words=default_wt(text)\n",
    "    only_words=[w for w in words if w.isalpha()]\n",
    "    return only_words\n",
    "\n",
    "def remove_stopwords(tokens):\n",
    "    stopword_list=nltk.corpus.stopwords.words('english')\n",
    "    filtered_tokens=[token for token in tokens if token.lower() not in stopword_list]\n",
    "    return filtered_tokens"
   ]
  },
  {
   "cell_type": "code",
   "execution_count": 131,
   "metadata": {},
   "outputs": [
    {
     "name": "stdout",
     "output_type": "stream",
     "text": [
      "['temporary', 'receptionist', 'elegant', 'African', 'American', 'woman', 'wearing', 'dark', 'expensive', 'business', 'suit', 'exception', 'usual', 'crowd', 'Southern', 'Prisoners', 'Defense', 'Committee', 'SDPC', 'Atlanta', 'returned', 'graduation', 'work', 'full', 'time', 'first', 'day', 'rambled', 'regular', 'uniform', 'jeans', 'sneakers', 'offered', 'answer', 'questions', 'might', 'help', 'get', 'acclimated']\n"
     ]
    }
   ],
   "source": [
    "words_nostpwrds=remove_stopwords(get_wordtokens(book_text))\n",
    "print(words_nostpwrds)"
   ]
  },
  {
   "cell_type": "markdown",
   "metadata": {},
   "source": [
    "<a id=\"stemmers\"></a>\n",
    "<a href=\"#top\">Back to Top</a>\n",
    "### Run through stemmers"
   ]
  },
  {
   "cell_type": "code",
   "execution_count": 135,
   "metadata": {},
   "outputs": [],
   "source": [
    "def apply_porterstemmer(words):\n",
    "    ps=PorterStemmer()\n",
    "    stemmed_words=[ps.stem(w) for w in words]\n",
    "    return stemmed_words\n",
    "\n",
    "def apply_lancasterstemmer(words):\n",
    "    ls=LancasterStemmer()\n",
    "    stemmed_words=[ls.stem(w) for w in words]\n",
    "    return stemmed_words"
   ]
  },
  {
   "cell_type": "code",
   "execution_count": 136,
   "metadata": {},
   "outputs": [
    {
     "name": "stdout",
     "output_type": "stream",
     "text": [
      "Applying PorterStemmer to word list cleaned off stopwords\n",
      "['temporari', 'receptionist', 'eleg', 'african', 'american', 'woman', 'wear', 'dark', 'expens', 'busi', 'suit', 'except', 'usual', 'crowd', 'southern', 'prison', 'defens', 'committe', 'sdpc', 'atlanta', 'return', 'graduat', 'work', 'full', 'time', 'first', 'day', 'rambl', 'regular', 'uniform', 'jean', 'sneaker', 'offer', 'answer', 'question', 'might', 'help', 'get', 'acclim']\n",
      "\n",
      "Applying LancasterStemmer to word list cleaned off stopwords\n",
      "['temp', 'receiv', 'eleg', 'afr', 'am', 'wom', 'wear', 'dark', 'expend', 'busy', 'suit', 'exceiv', 'us', 'crowd', 'southern', 'prison', 'defens', 'commit', 'sdpc', 'atlant', 'return', 'gradu', 'work', 'ful', 'tim', 'first', 'day', 'rambl', 'regul', 'uniform', 'jean', 'sneak', 'off', 'answ', 'quest', 'might', 'help', 'get', 'acclim']\n"
     ]
    }
   ],
   "source": [
    "print(\"Applying PorterStemmer to word list cleaned off stopwords\")\n",
    "ps_stemmed_words=apply_porterstemmer(words_nostpwrds)\n",
    "print(ps_stemmed_words)\n",
    "print()\n",
    "print(\"Applying LancasterStemmer to word list cleaned off stopwords\")\n",
    "ls_stemmed_words=apply_lancasterstemmer(words_nostpwrds)\n",
    "print(ls_stemmed_words)"
   ]
  },
  {
   "cell_type": "markdown",
   "metadata": {},
   "source": [
    "Although the list of stems from both the stemmers are almost same , the stem words itself for each of the referred words in original text are different. By the view of it, LancasterStemmer seems to have returned lot of stems that don't seem to be a lexicographically correct word."
   ]
  },
  {
   "cell_type": "markdown",
   "metadata": {},
   "source": [
    "<a id=\"morphologicalroots\"></a>\n",
    "<a href=\"#top\">Back to Top</a>\n",
    "### Lemmatization"
   ]
  },
  {
   "cell_type": "code",
   "execution_count": 123,
   "metadata": {},
   "outputs": [],
   "source": [
    "def find_lemmas(words):\n",
    "    lemmas=[]\n",
    "    wnl=WordNetLemmatizer()\n",
    "    lemmas_n=[wnl.lemmatize(w.lower(),'n') for w in words if wnl.lemmatize(w.lower(),'n')!= w.lower() ]\n",
    "    lemmas_v=[wnl.lemmatize(w.lower(),'v') for w in words if wnl.lemmatize(w.lower(),'v')!= w.lower() ]\n",
    "    lemmas_a=[wnl.lemmatize(w.lower(),'a') for w in words if wnl.lemmatize(w.lower(),'a')!= w.lower() ]\n",
    "    lemmas.extend(lemmas_n)\n",
    "    lemmas.extend(lemmas_v)\n",
    "    lemmas.extend(lemmas_a)\n",
    "    return lemmas"
   ]
  },
  {
   "cell_type": "code",
   "execution_count": 124,
   "metadata": {},
   "outputs": [
    {
     "name": "stdout",
     "output_type": "stream",
     "text": [
      "['prisoner', 'jean', 'sneaker', 'question', 'wear', 'return', 'ramble', 'offer', 'question', 'acclimate']\n"
     ]
    }
   ],
   "source": [
    "lemmas=find_lemmas(words_nostpwrds)\n",
    "print(lemmas)"
   ]
  },
  {
   "cell_type": "markdown",
   "metadata": {},
   "source": [
    "Above words are morphological roots, each of these words make sense and are correct words . The function we have used here finds the base form or lemma for a given word using the word and its part of speech by checking the Wordnet corpus . If no match is found, the input word itseld is returned unchanged, which we have ignored."
   ]
  },
  {
   "cell_type": "code",
   "execution_count": 125,
   "metadata": {},
   "outputs": [],
   "source": [
    "def find_morphologicalroots(lemmas,stemwords):\n",
    "    return [sw for sw in stemwords if sw in lemmas]"
   ]
  },
  {
   "cell_type": "code",
   "execution_count": 126,
   "metadata": {},
   "outputs": [
    {
     "name": "stdout",
     "output_type": "stream",
     "text": [
      "morphological roots in ps stemmed words :- \n",
      "['wear', 'return', 'jean', 'sneaker', 'offer', 'question']\n",
      "\n",
      "==============================\n",
      "\n",
      "morphological roots in ls stemmed words:- \n",
      "['wear', 'return', 'jean']\n"
     ]
    }
   ],
   "source": [
    "print(\"morphological roots in ps stemmed words :- \")\n",
    "if find_morphologicalroots(lemmas,ps_stemmed_words):\n",
    "    print(find_morphologicalroots(lemmas,ps_stemmed_words))\n",
    "else:\n",
    "    print(\"No Morphological roots in ps stemmer\")\n",
    "\n",
    "print()\n",
    "print(\"==============================\")\n",
    "print()\n",
    "\n",
    "print(\"morphological roots in ls stemmed words:- \")\n",
    "if find_morphologicalroots(lemmas,ls_stemmed_words):\n",
    "    print(find_morphologicalroots(lemmas,ls_stemmed_words))\n",
    "else:\n",
    "    print(\"No Morphological roots in ls stemmer\")"
   ]
  },
  {
   "cell_type": "markdown",
   "metadata": {},
   "source": [
    "Porter Stemmer has returned more morphological roots than LancasterStemmer. From the looks of it Lancaster Stemmed words did have lot of irrelevant stems. "
   ]
  },
  {
   "cell_type": "code",
   "execution_count": null,
   "metadata": {},
   "outputs": [],
   "source": []
  }
 ],
 "metadata": {
  "kernelspec": {
   "display_name": "Python 3",
   "language": "python",
   "name": "python3"
  },
  "language_info": {
   "codemirror_mode": {
    "name": "ipython",
    "version": 3
   },
   "file_extension": ".py",
   "mimetype": "text/x-python",
   "name": "python",
   "nbconvert_exporter": "python",
   "pygments_lexer": "ipython3",
   "version": "3.7.3"
  }
 },
 "nbformat": 4,
 "nbformat_minor": 2
}
