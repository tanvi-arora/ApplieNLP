{
 "cells": [
  {
   "cell_type": "code",
   "execution_count": 251,
   "metadata": {},
   "outputs": [],
   "source": [
    "import nltk\n",
    "import numpy\n",
    "import codecs\n",
    "from bs4 import BeautifulSoup\n",
    "from __future__ import division, unicode_literals \n",
    "from urllib import request\n",
    "from tabulate import tabulate\n",
    "import pandas as pd"
   ]
  },
  {
   "cell_type": "code",
   "execution_count": 239,
   "metadata": {},
   "outputs": [],
   "source": [
    "## define reusable functions\n",
    "\n",
    "def read_html(url):\n",
    "    html = request.urlopen(url).read().decode('utf8')\n",
    "    raw = BeautifulSoup(html, 'html.parser').get_text()\n",
    "    tokens = word_tokenize(raw)\n",
    "    text = nltk.Text(tokens)\n",
    "    return text\n",
    "\n",
    "def lexical_diversity(text):\n",
    "    return len(set(text))/len(text)\n",
    "\n",
    "def percentage(word,text):\n",
    "    return 100* text.count(word)/len(text)\n",
    "\n",
    "def read_utf8(url):\n",
    "    response = request.urlopen(url)\n",
    "    raw = response.read().decode('utf8')\n",
    "    tokens = word_tokenize(raw)\n",
    "    text = nltk.Text(tokens)\n",
    "    return text\n",
    "\n",
    "def vocab(tokens):\n",
    "    return set(tokens)"
   ]
  },
  {
   "cell_type": "code",
   "execution_count": 217,
   "metadata": {},
   "outputs": [],
   "source": [
    "# pre-analyze ebook list\n",
    "\n",
    "url = \"http://www.gutenberg.org/cache/epub/9078/pg9078.txt\"\n",
    "response = request.urlopen(url)\n",
    "#print(response.status, response.reason)\n",
    "# good output is 200,OK\n",
    "raw = response.read().decode('utf8')\n",
    "tokens = word_tokenize(raw)\n",
    "text = nltk.Text(tokens)\n"
   ]
  },
  {
   "cell_type": "code",
   "execution_count": 226,
   "metadata": {},
   "outputs": [
    {
     "name": "stdout",
     "output_type": "stream",
     "text": [
      "﻿Project\n",
      "Gutenberg\n",
      "'s\n",
      "Sanders\n",
      "'\n",
      "Union\n",
      "Fourth\n",
      "Reader\n",
      ",\n",
      "by\n",
      "144160\n",
      "<class 'list'>\n",
      "144160\n",
      "<class 'nltk.text.Text'>\n"
     ]
    }
   ],
   "source": [
    "# print tokens/text\n",
    "#tokens is a list of strings\n",
    "for t in range(0,10):\n",
    "    print(text[t])\n",
    "    \n",
    "print(len(tokens))\n",
    "print(type(tokens))\n",
    "\n",
    "print(len(text))\n",
    "print(type(text))"
   ]
  },
  {
   "cell_type": "code",
   "execution_count": 215,
   "metadata": {},
   "outputs": [
    {
     "name": "stdout",
     "output_type": "stream",
     "text": [
      "17120\n",
      "<class 'set'>\n",
      "100 lamp\n",
      "101 ILS\n",
      "102 licks\n",
      "103 eventide\n",
      "104 HOLLAND\n",
      "105 cur_v'd_\n",
      "106 concave\n",
      "107 When\n",
      "108 _his_\n",
      "109 recovery\n",
      "110 _sp_\n"
     ]
    }
   ],
   "source": [
    "## Create vocabulary\n",
    "vocab=set(tokens)\n",
    "print(len(vocab))\n",
    "print(type(vocab))\n",
    "# print set objects\n",
    "start=100\n",
    "for count, item in enumerate(vocab, start):\n",
    "    print(count, item)\n",
    "    if(count==start+10):\n",
    "        break\n"
   ]
  },
  {
   "cell_type": "code",
   "execution_count": 219,
   "metadata": {},
   "outputs": [],
   "source": [
    "#second reader (The Beacon Second Reader BookIcon.png Fassett, James H.)\n",
    "#text[0]=read_html(\"http://www.gutenberg.org/files/15659/15659-h/15659-h.htm\")\n",
    "#fifth reader (De La Salle Fifth Reader BookIcon.png Schools, Brothers of the Christian)\n",
    "#text[1]=read_html(\"http://www.gutenberg.org/files/10811/10811-h/10811-h.htm\")\n",
    "#fourth reader (Sanders' Union Fourth Reader BookIcon.png Sanders, Charles W.)\n",
    "#text[2]=read_html(\"http://www.gutenberg.org/files/9078/9078-h/9078-h.htm\")"
   ]
  },
  {
   "cell_type": "code",
   "execution_count": 291,
   "metadata": {},
   "outputs": [],
   "source": [
    "# define reusable functions for list of books\n",
    "\n",
    "def createlist(booklist):\n",
    "    textread=[]\n",
    "    docnames=[]\n",
    "    for name,url in booklist.items():\n",
    "        docnames.append(name)\n",
    "        textread.append(read_utf8(url))\n",
    "    return docnames,textread\n",
    "\n",
    "# find lexical diversity of the books\n",
    "def lexdiv_list(textread):\n",
    "    lexdiv=[]\n",
    "    for tmp in textread:\n",
    "        lexdiv.append(lexical_diversity(tmp))\n",
    "    #for l in lexdiv:\n",
    "    #    print(l)\n",
    "    \n",
    "    return lexdiv\n",
    "\n",
    "# find vocab of books\n",
    "def vocabsize_list(textread):\n",
    "    vocabsize=[]\n",
    "    for tmp in textread:\n",
    "        vocabsize.append(len(vocab(tmp)))\n",
    "    #for vc in vocabsize:\n",
    "    #    print(vc)\n",
    "    \n",
    "    return vocabsize\n",
    "    \n",
    "# print tabular output\n",
    "def tab_bookstats(book_pd):\n",
    "    print(tabulate(book_pd, headers='keys', tablefmt='simple',showindex=False,))"
   ]
  },
  {
   "cell_type": "code",
   "execution_count": 297,
   "metadata": {},
   "outputs": [
    {
     "name": "stdout",
     "output_type": "stream",
     "text": [
      "docnames                                                                       lexical_diversity    vocabulary_size\n",
      "---------------------------------------------------------------------------  -------------------  -----------------\n",
      "New National First Reader : Barnes, Charles J.                                          0.165179               2202\n",
      "The Ontario Readers: Third Book : Ontario Ministry of Education                         0.120272               9877\n",
      "fifth reader :De La Salle Fifth Reader : Schools, Brothers of the Christian             0.129179               9196\n"
     ]
    }
   ],
   "source": [
    "'''\n",
    "diff_author_docs={\"second reader :The Beacon Second Reader : Fassett, James H.\" : 'http://www.gutenberg.org/cache/epub/15659/pg15659.txt',\n",
    "                  \"fourth reader :Sanders' Union Fourth Reader : Sanders, Charles W.\" : 'http://www.gutenberg.org/cache/epub/9078/pg9078.txt',\n",
    "                  \"fifth reader :De La Salle Fifth Reader : Schools, Brothers of the Christian\" :'http://www.gutenberg.org/cache/epub/10811/pg10811.txt'}\n",
    "'''\n",
    "\n",
    "diff_author_docs={\"New National First Reader : Barnes, Charles J.\":'http://www.gutenberg.org/files/13853/13853-0.txt',\n",
    "                  \"The Ontario Readers: Third Book : Ontario Ministry of Education\":'http://www.gutenberg.org/cache/epub/18561/pg18561.txt',\n",
    "                  \"fifth reader :De La Salle Fifth Reader : Schools, Brothers of the Christian\" :'http://www.gutenberg.org/cache/epub/10811/pg10811.txt'}\n",
    "                  \n",
    "da_dcname,da_textr = createlist(diff_author_docs)\n",
    "da_ld=lexdiv_list(da_textr)\n",
    "da_vc=vocabsize_list(da_textr)\n",
    "da_df = pd.DataFrame({'docnames' : da_dcname,\n",
    "                   'lexical_diversity' : da_ld,\n",
    "                   'vocabulary_size' : da_vc})\n",
    "tab_bookstats(da_df)"
   ]
  },
  {
   "cell_type": "code",
   "execution_count": 294,
   "metadata": {},
   "outputs": [
    {
     "name": "stdout",
     "output_type": "stream",
     "text": [
      "docnames                                                                        lexical_diversity    vocabulary_size\n",
      "----------------------------------------------------------------------------  -------------------  -----------------\n",
      "McGuffey's First Eclectic Reader, Revised Edition : McGuffey, William Holmes             0.167199               2147\n",
      "McGuffey's Third Eclectic Reader : McGuffey, William Holmes                              0.124138               4714\n",
      "McGuffey's Fifth Eclectic Reader : McGuffey, William Holmes                              0.112887              14292\n"
     ]
    }
   ],
   "source": [
    "same_author_docs={\"McGuffey's First Eclectic Reader, Revised Edition : McGuffey, William Holmes\" : 'http://www.gutenberg.org/cache/epub/14640/pg14640.txt',\n",
    "                  \"McGuffey's Third Eclectic Reader : McGuffey, William Holmes\" : 'http://www.gutenberg.org/cache/epub/14766/pg14766.txt',\n",
    "                  \"McGuffey's Fifth Eclectic Reader : McGuffey, William Holmes\" :'http://www.gutenberg.org/cache/epub/15040/pg15040.txt'}\n",
    "\n",
    "sa_dcname,sa_textr = createlist(same_author_docs)\n",
    "sa_ld=lexdiv_list(sa_textr)\n",
    "sa_vc=vocabsize_list(sa_textr)\n",
    "sa_df = pd.DataFrame({'docnames' : sa_dcname,\n",
    "                   'lexical_diversity' : sa_ld,\n",
    "                   'vocabulary_size' : sa_vc})\n",
    "tab_bookstats(sa_df)"
   ]
  },
  {
   "cell_type": "code",
   "execution_count": null,
   "metadata": {},
   "outputs": [],
   "source": [
    "# Normalize data\n",
    "\n",
    "\n",
    "from nltk.tokenize import word_tokenize\n",
    "docwords=word_tokenize(document)\n",
    "for line in docwords:\n",
    "    line = (line.rstrip())\n",
    "    if line:\n",
    "        if re.match(\"^[A-Za-z]*$\",line):\n",
    "            if (line not in stop and len(line)>1):\n",
    "                st=st+\" \"+line\n",
    "print st"
   ]
  }
 ],
 "metadata": {
  "kernelspec": {
   "display_name": "Python 3",
   "language": "python",
   "name": "python3"
  },
  "language_info": {
   "codemirror_mode": {
    "name": "ipython",
    "version": 3
   },
   "file_extension": ".py",
   "mimetype": "text/x-python",
   "name": "python",
   "nbconvert_exporter": "python",
   "pygments_lexer": "ipython3",
   "version": "3.7.0"
  }
 },
 "nbformat": 4,
 "nbformat_minor": 2
}
